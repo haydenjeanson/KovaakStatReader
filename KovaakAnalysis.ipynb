{
 "cells": [
  {
   "cell_type": "code",
   "execution_count": 80,
   "metadata": {},
   "outputs": [],
   "source": [
    "import matplotlib as plt\n",
    "import pandas as pd\n",
    "import os\n",
    "\n",
    "def filter(df,column, value):\n",
    "    indexNames = df[ (df[column] != value)].index\n",
    "    df.drop(indexNames , inplace=True)\n",
    "    df = df.reset_index(drop=True)\n",
    "    return df\n",
    "\n",
    "def getInfoFromFilename(file):\n",
    "        tokenList = statFiles[0].split(' - ')\n",
    "        tokenList[2] = tokenList[2][:-10]\n",
    "        tokenList.pop(1)\n",
    "        return tokenList"
   ]
  },
  {
   "cell_type": "code",
   "execution_count": 68,
   "metadata": {},
   "outputs": [],
   "source": [
    "class Scenario:\n",
    "    name = None\n",
    "    scores = {}\n",
    "    \n",
    "    def __init__(self, name):\n",
    "        self.name = name\n",
    "    \n",
    "    def addScoreFromFilename(timestamp, score):\n",
    "        # TODO: filter out bad formatting\n",
    "        scores[timestamp] = score"
   ]
  },
  {
   "cell_type": "code",
   "execution_count": 81,
   "metadata": {},
   "outputs": [
    {
     "name": "stdout",
     "output_type": "stream",
     "text": [
      "1wall 1target - Challenge - 2020.05.15-12.25.26 Stats.csv\n",
      "1wall 1target\n",
      "2020.05.15-12.25.26\n"
     ]
    }
   ],
   "source": [
    "STATS_DIRECTORY = 'C:\\ProgramData\\SteamLibrary\\steamapps\\common\\FPSAimTrainer\\FPSAimTrainer\\stats'\n",
    "\n",
    "statFiles = []\n",
    "for root, _, files in os.walk(STATS_DIRECTORY):\n",
    "    for file in files:\n",
    "        if file.endswith('.csv'):\n",
    "            statFiles.append(file)\n",
    "            \n",
    "print(statFiles[0])\n",
    "\n",
    "df = pd.read_csv(STATS_DIRECTORY + '\\\\' +  statFiles[0], sep=',', error_bad_lines=False)\n",
    "\n",
    "df.rename(columns={'Kill #':'Headings'}, inplace=True)\n",
    "df.rename(columns={'Timestamp':'Values'}, inplace=True)\n",
    "\n",
    "df = df[['Headings','Values']]\n",
    "\n",
    "df = filter(df, 'Headings', 'Score:')\n",
    "\n",
    "df\n",
    "# print(df['Values'][103])\n",
    "\n",
    "name, timestamp = getInfoFromFilename(statFiles[0])\n",
    "print(name)\n",
    "print(timestamp)\n"
   ]
  },
  {
   "cell_type": "code",
   "execution_count": null,
   "metadata": {},
   "outputs": [],
   "source": []
  }
 ],
 "metadata": {
  "kernelspec": {
   "display_name": "Python 3",
   "language": "python",
   "name": "python3"
  },
  "language_info": {
   "codemirror_mode": {
    "name": "ipython",
    "version": 3
   },
   "file_extension": ".py",
   "mimetype": "text/x-python",
   "name": "python",
   "nbconvert_exporter": "python",
   "pygments_lexer": "ipython3",
   "version": "3.7.6"
  }
 },
 "nbformat": 4,
 "nbformat_minor": 4
}
